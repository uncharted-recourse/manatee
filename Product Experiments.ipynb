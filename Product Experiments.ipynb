{
 "cells": [
  {
   "cell_type": "code",
   "execution_count": 2,
   "metadata": {},
   "outputs": [
    {
     "name": "stdout",
     "output_type": "stream",
     "text": [
      "2019-03-26 11:59:27,238 - log.py:100 <module> - logger initialized\n"
     ]
    }
   ],
   "source": [
    "'''\n",
    "    Create venv that contains tapir (snowflake queries) and manatee (rrcf model) and add the venv as kernel option\n",
    "    to the notebook:\n",
    "        \n",
    "        1. git clone https://github.com/NewKnowledge/tapir \n",
    "        2. cd tapir\n",
    "        3. conda env create -n <name> -f environment.yml \n",
    "        4. python3 -m pip install git+https://github.com/NewKnowledge/manatee --process-dependency-links (wheels for\n",
    "            rrcf having trouble, might have to clone, install from directory)\n",
    "        5. python3 -m pip install ipykernel\n",
    "        6. python -m ipykernel install --user --name myenv --display-name \"Python (<name>)\"\n",
    "        7. set environment variables in venv by following these instructions: \n",
    "            https://conda.io/projects/conda/en/latest/user-guide/tasks/manage-environments.html#saving-environment-variables\n",
    "        8. Select venv from Kernel -> Change Kernel -> Python (<name>)\n",
    "\n",
    "    STEP 1: PULL MARCH HASHTAGS FROM SNOWFLAKE\n",
    "'''\n",
    "\n",
    "from tapir.queries import get_raw_training_data\n",
    "from nk_logger import get_logger\n",
    "from tapir.preprocess import prep_raw_data\n",
    "logger = get_logger(__name__)\n",
    "\n",
    "# constants\n",
    "start_date = \"2019-03-01\"\n",
    "stop_date = \"2019-03-24\"\n",
    "min_count = 20\n",
    "\n",
    "logger.info(\"collecting raw training data from snowflake\")\n",
    "get_raw_training_data(platform_id=28,min_count=min_count,start_date=start_date,stop_date=stop_date)\n",
    "raw_data_fname_prefix = (f\"hashtags_{start_date.replace('-', '_')}_to_{stop_date.replace('-', '_')}\")"
   ]
  },
  {
   "cell_type": "code",
   "execution_count": 2,
   "metadata": {
    "collapsed": true
   },
   "outputs": [
    {
     "name": "stdout",
     "output_type": "stream",
     "text": [
      "2019-03-25 15:00:20,006 - preprocess.py:30 prep_raw_data - reading raw data from files in data/raw/ with prefix: hashtags_2019_03_01_to_2019_03_24\n",
      "2019-03-25 15:00:20,009 - preprocess.py:33 prep_raw_data - concat data from raw data fpaths: ['tapir/data/raw/hashtags_2019_03_01_to_2019_03_24__0_5_0.snappy.parquet', 'tapir/data/raw/hashtags_2019_03_01_to_2019_03_24__2_6_0.snappy.parquet', 'tapir/data/raw/hashtags_2019_03_01_to_2019_03_24__1_2_0.snappy.parquet', 'tapir/data/raw/hashtags_2019_03_01_to_2019_03_24__3_1_0.snappy.parquet', 'tapir/data/raw/hashtags_2019_03_01_to_2019_03_24__3_5_0.snappy.parquet', 'tapir/data/raw/hashtags_2019_03_01_to_2019_03_24__1_6_0.snappy.parquet', 'tapir/data/raw/hashtags_2019_03_01_to_2019_03_24__2_2_0.snappy.parquet', 'tapir/data/raw/hashtags_2019_03_01_to_2019_03_24__0_1_0.snappy.parquet', 'tapir/data/raw/hashtags_2019_03_01_to_2019_03_24__0_4_0.snappy.parquet', 'tapir/data/raw/hashtags_2019_03_01_to_2019_03_24__2_7_0.snappy.parquet', 'tapir/data/raw/hashtags_2019_03_01_to_2019_03_24__1_3_0.snappy.parquet', 'tapir/data/raw/hashtags_2019_03_01_to_2019_03_24__3_0_0.snappy.parquet', 'tapir/data/raw/hashtags_2019_03_01_to_2019_03_24__3_4_0.snappy.parquet', 'tapir/data/raw/hashtags_2019_03_01_to_2019_03_24__1_7_0.snappy.parquet', 'tapir/data/raw/hashtags_2019_03_01_to_2019_03_24__2_3_0.snappy.parquet', 'tapir/data/raw/hashtags_2019_03_01_to_2019_03_24__0_0_0.snappy.parquet', 'tapir/data/raw/hashtags_2019_03_01_to_2019_03_24__1_0_0.snappy.parquet', 'tapir/data/raw/hashtags_2019_03_01_to_2019_03_24__3_3_0.snappy.parquet', 'tapir/data/raw/hashtags_2019_03_01_to_2019_03_24__0_7_0.snappy.parquet', 'tapir/data/raw/hashtags_2019_03_01_to_2019_03_24__2_4_0.snappy.parquet', 'tapir/data/raw/hashtags_2019_03_01_to_2019_03_24__2_0_0.snappy.parquet', 'tapir/data/raw/hashtags_2019_03_01_to_2019_03_24__0_3_0.snappy.parquet', 'tapir/data/raw/hashtags_2019_03_01_to_2019_03_24__3_7_0.snappy.parquet', 'tapir/data/raw/hashtags_2019_03_01_to_2019_03_24__1_4_0.snappy.parquet', 'tapir/data/raw/hashtags_2019_03_01_to_2019_03_24__1_1_0.snappy.parquet', 'tapir/data/raw/hashtags_2019_03_01_to_2019_03_24__3_2_0.snappy.parquet', 'tapir/data/raw/hashtags_2019_03_01_to_2019_03_24__0_6_0.snappy.parquet', 'tapir/data/raw/hashtags_2019_03_01_to_2019_03_24__2_5_0.snappy.parquet', 'tapir/data/raw/hashtags_2019_03_01_to_2019_03_24__2_1_0.snappy.parquet', 'tapir/data/raw/hashtags_2019_03_01_to_2019_03_24__0_2_0.snappy.parquet', 'tapir/data/raw/hashtags_2019_03_01_to_2019_03_24__3_6_0.snappy.parquet', 'tapir/data/raw/hashtags_2019_03_01_to_2019_03_24__1_5_0.snappy.parquet']\n"
     ]
    },
    {
     "name": "stderr",
     "output_type": "stream",
     "text": [
      "/anaconda3/envs/time_series/lib/python3.7/site-packages/pyarrow/pandas_compat.py:752: FutureWarning: .labels was deprecated in version 0.24.0. Use .codes instead.\n",
      "  labels, = index.labels\n"
     ]
    },
    {
     "name": "stdout",
     "output_type": "stream",
     "text": [
      "2019-03-25 15:00:37,424 - preprocess.py:38 prep_raw_data - grouping hashtag event times\n",
      "2019-03-25 15:00:55,295 - preprocess.py:49 prep_raw_data - converting timestamps to floats of days since start_time\n",
      "2019-03-25 15:01:37,483 - preprocess.py:58 prep_raw_data - smoothing rate functions (used to find emerging hashtags)\n",
      "2019-03-25 15:01:43,193 - preprocess.py:65 prep_raw_data - converting to rate function took: 5.708946228027344 seconds\n",
      "2019-03-25 15:01:43,194 - preprocess.py:68 prep_raw_data - writing rates to file tapir/data/prep/hashtags_2019_03_01_to_2019_03_24.npz\n"
     ]
    }
   ],
   "source": [
    "'''\n",
    "    STEP 2: CONVERT RAW TIMESTAMPS TO RATE FUNCTIONS\n",
    "''' \n",
    "# constants\n",
    "bins_per_day = 24\n",
    "\n",
    "training_data_fname = prep_raw_data(data_fname_prefix=raw_data_fname_prefix, bins_per_day = bins_per_day)\n"
   ]
  },
  {
   "cell_type": "code",
   "execution_count": 208,
   "metadata": {
    "collapsed": true
   },
   "outputs": [
    {
     "name": "stdout",
     "output_type": "stream",
     "text": [
      "0 points (0.0 %) weren't included in any randomly sampled trees:\n",
      "0 points (0.0 %) weren't included in any randomly sampled trees:\n",
      "0 points (0.0 %) weren't included in any randomly sampled trees:\n",
      "0 points (0.0 %) weren't included in any randomly sampled trees:\n",
      "0 points (0.0 %) weren't included in any randomly sampled trees:\n",
      "0 points (0.0 %) weren't included in any randomly sampled trees:\n",
      "0 points (0.0 %) weren't included in any randomly sampled trees:\n",
      "0 points (0.0 %) weren't included in any randomly sampled trees:\n",
      "0 points (0.0 %) weren't included in any randomly sampled trees:\n",
      "0 points (0.0 %) weren't included in any randomly sampled trees:\n",
      "0 points (0.0 %) weren't included in any randomly sampled trees:\n",
      "0 points (0.0 %) weren't included in any randomly sampled trees:\n",
      "0 points (0.0 %) weren't included in any randomly sampled trees:\n",
      "0 points (0.0 %) weren't included in any randomly sampled trees:\n",
      "0 points (0.0 %) weren't included in any randomly sampled trees:\n",
      "0 points (0.0 %) weren't included in any randomly sampled trees:\n",
      "0 points (0.0 %) weren't included in any randomly sampled trees:\n",
      "0 points (0.0 %) weren't included in any randomly sampled trees:\n",
      "0 points (0.0 %) weren't included in any randomly sampled trees:\n",
      "0 points (0.0 %) weren't included in any randomly sampled trees:\n",
      "0 points (0.0 %) weren't included in any randomly sampled trees:\n",
      "0 points (0.0 %) weren't included in any randomly sampled trees:\n",
      "0 points (0.0 %) weren't included in any randomly sampled trees:\n",
      "0 points (0.0 %) weren't included in any randomly sampled trees:\n",
      "0 points (0.0 %) weren't included in any randomly sampled trees:\n",
      "0 points (0.0 %) weren't included in any randomly sampled trees:\n",
      "0 points (0.0 %) weren't included in any randomly sampled trees:\n",
      "0 points (0.0 %) weren't included in any randomly sampled trees:\n",
      "0 points (0.0 %) weren't included in any randomly sampled trees:\n",
      "0 points (0.0 %) weren't included in any randomly sampled trees:\n",
      "0 points (0.0 %) weren't included in any randomly sampled trees:\n",
      "0 points (0.0 %) weren't included in any randomly sampled trees:\n",
      "0 points (0.0 %) weren't included in any randomly sampled trees:\n",
      "0 points (0.0 %) weren't included in any randomly sampled trees:\n",
      "0 points (0.0 %) weren't included in any randomly sampled trees:\n",
      "0 points (0.0 %) weren't included in any randomly sampled trees:\n",
      "0 points (0.0 %) weren't included in any randomly sampled trees:\n",
      "0 points (0.0 %) weren't included in any randomly sampled trees:\n",
      "0 points (0.0 %) weren't included in any randomly sampled trees:\n",
      "0 points (0.0 %) weren't included in any randomly sampled trees:\n",
      "0 points (0.0 %) weren't included in any randomly sampled trees:\n",
      "0 points (0.0 %) weren't included in any randomly sampled trees:\n",
      "0 points (0.0 %) weren't included in any randomly sampled trees:\n",
      "0 points (0.0 %) weren't included in any randomly sampled trees:\n",
      "0 points (0.0 %) weren't included in any randomly sampled trees:\n",
      "0 points (0.0 %) weren't included in any randomly sampled trees:\n",
      "0 points (0.0 %) weren't included in any randomly sampled trees:\n",
      "0 points (0.0 %) weren't included in any randomly sampled trees:\n",
      "0 points (0.0 %) weren't included in any randomly sampled trees:\n",
      "0 points (0.0 %) weren't included in any randomly sampled trees:\n",
      "0 points (0.0 %) weren't included in any randomly sampled trees:\n",
      "0 points (0.0 %) weren't included in any randomly sampled trees:\n",
      "0 points (0.0 %) weren't included in any randomly sampled trees:\n",
      "0 points (0.0 %) weren't included in any randomly sampled trees:\n",
      "0 points (0.0 %) weren't included in any randomly sampled trees:\n",
      "0 points (0.0 %) weren't included in any randomly sampled trees:\n",
      "0 points (0.0 %) weren't included in any randomly sampled trees:\n",
      "0 points (0.0 %) weren't included in any randomly sampled trees:\n",
      "0 points (0.0 %) weren't included in any randomly sampled trees:\n",
      "0 points (0.0 %) weren't included in any randomly sampled trees:\n",
      "0 points (0.0 %) weren't included in any randomly sampled trees:\n",
      "0 points (0.0 %) weren't included in any randomly sampled trees:\n",
      "0 points (0.0 %) weren't included in any randomly sampled trees:\n",
      "0 points (0.0 %) weren't included in any randomly sampled trees:\n",
      "0 points (0.0 %) weren't included in any randomly sampled trees:\n",
      "0 points (0.0 %) weren't included in any randomly sampled trees:\n",
      "0 points (0.0 %) weren't included in any randomly sampled trees:\n",
      "0 points (0.0 %) weren't included in any randomly sampled trees:\n",
      "0 points (0.0 %) weren't included in any randomly sampled trees:\n",
      "0 points (0.0 %) weren't included in any randomly sampled trees:\n",
      "0 points (0.0 %) weren't included in any randomly sampled trees:\n",
      "0 points (0.0 %) weren't included in any randomly sampled trees:\n",
      "0 points (0.0 %) weren't included in any randomly sampled trees:\n",
      "0 points (0.0 %) weren't included in any randomly sampled trees:\n",
      "0 points (0.0 %) weren't included in any randomly sampled trees:\n",
      "0 points (0.0 %) weren't included in any randomly sampled trees:\n",
      "0 points (0.0 %) weren't included in any randomly sampled trees:\n",
      "0 points (0.0 %) weren't included in any randomly sampled trees:\n",
      "0 points (0.0 %) weren't included in any randomly sampled trees:\n",
      "0 points (0.0 %) weren't included in any randomly sampled trees:\n",
      "0 points (0.0 %) weren't included in any randomly sampled trees:\n",
      "0 points (0.0 %) weren't included in any randomly sampled trees:\n",
      "0 points (0.0 %) weren't included in any randomly sampled trees:\n",
      "0 points (0.0 %) weren't included in any randomly sampled trees:\n",
      "0 points (0.0 %) weren't included in any randomly sampled trees:\n",
      "0 points (0.0 %) weren't included in any randomly sampled trees:\n",
      "0 points (0.0 %) weren't included in any randomly sampled trees:\n",
      "0 points (0.0 %) weren't included in any randomly sampled trees:\n",
      "0 points (0.0 %) weren't included in any randomly sampled trees:\n",
      "0 points (0.0 %) weren't included in any randomly sampled trees:\n",
      "0 points (0.0 %) weren't included in any randomly sampled trees:\n",
      "0 points (0.0 %) weren't included in any randomly sampled trees:\n",
      "0 points (0.0 %) weren't included in any randomly sampled trees:\n",
      "0 points (0.0 %) weren't included in any randomly sampled trees:\n",
      "0 points (0.0 %) weren't included in any randomly sampled trees:\n",
      "0 points (0.0 %) weren't included in any randomly sampled trees:\n",
      "0 points (0.0 %) weren't included in any randomly sampled trees:\n",
      "0 points (0.0 %) weren't included in any randomly sampled trees:\n",
      "0 points (0.0 %) weren't included in any randomly sampled trees:\n",
      "0 points (0.0 %) weren't included in any randomly sampled trees:\n"
     ]
    }
   ],
   "source": [
    "'''\n",
    "    STEP 3: Data Preparation: round low rate_values, pad hashtags with 0s, calculate percentiles for random sample of hashtags\n",
    "\n",
    "'''\n",
    "import numpy as np\n",
    "from datetime import datetime, timedelta\n",
    "from manatee.robust_rcf import robust_rcf\n",
    "\n",
    "# constants\n",
    "sample_size = 100  # how many hashtag samples to calculate percentiles on which to make anom_prediction \n",
    "padding_in_hrs = 96 # pad hashtags with 0s to start to identify initial increases as anomalous\n",
    "num_trees = 200\n",
    "memory_in_hrs = 96 # the tree size of the forest (equivalent to how long in the past we want to remember)\n",
    "min_rate = 100\n",
    "\n",
    "# load data\n",
    "prep_data_fpath = f\"tapir/data/prep/\" + raw_data_fname_prefix + \".npz\"\n",
    "data = np.load(prep_data_fpath)\n",
    "n_ts, ts_sz = data['rate_vals'].shape\n",
    "start_time = datetime.strptime(start_date, '%Y-%m-%d')\n",
    "ts = [start_time + timedelta(days=t) for t in data['rate_times']]\n",
    "\n",
    "'''\n",
    "create timestamp features --> \n",
    "    doesn't really make sense because of local context of rrcf - generates false positives that make no sense when \n",
    "    day changes for example\n",
    "\n",
    "ts_padding = [start_time - timedelta(days=data['rate_times'][0]*c) for c in range(padding_in_hrs)]\n",
    "ts_features = np.array([[ts.year, ts.month, ts.day, ts.weekday(), ts.hour, ts.minute, ts.second] for ts in ts_padding + ts])\n",
    "'''\n",
    "\n",
    "# round low rate values\n",
    "rates = data['rate_vals']\n",
    "rates[rates < min_rate] = 0\n",
    "\n",
    "# instantiate class\n",
    "rcf = robust_rcf(num_trees, memory_in_hrs)\n",
    "\n",
    "# this function controls the mean / variance calculation with one parameter: sample size\n",
    "def anom_mean_var(sam_size):\n",
    "    anomaly_scores = np.array([])\n",
    "    for ix in np.random.randint(n_ts, size = sample_size):\n",
    "        rate_vals = np.concatenate((np.zeros((padding_in_hrs, 1)), rates[ix].reshape(-1,1)), axis=0)\n",
    "        #features = np.concatenate((rate_vals, ts_features), axis=1)\n",
    "        rcf.fit_batch(rate_vals)\n",
    "        anomaly_scores = np.append(anomaly_scores, rcf.batch_anomaly_scores().values)\n",
    "    return anomaly_scores\n",
    "    \n",
    "# calculate mean and variance of sampled hashtags\n",
    "anomaly_scores = anom_mean_var(sample_size)"
   ]
  },
  {
   "cell_type": "code",
   "execution_count": 80,
   "metadata": {
    "collapsed": true
   },
   "outputs": [
    {
     "name": "stdout",
     "output_type": "stream",
     "text": [
      "Calculating Mean and Variance at Sample Size 50\n",
      "0 points (0.0 %) weren't included in any randomly sampled trees:\n",
      "0 points (0.0 %) weren't included in any randomly sampled trees:\n"
     ]
    },
    {
     "ename": "KeyboardInterrupt",
     "evalue": "",
     "output_type": "error",
     "traceback": [
      "\u001b[0;31m---------------------------------------------------------------------------\u001b[0m",
      "\u001b[0;31mKeyboardInterrupt\u001b[0m                         Traceback (most recent call last)",
      "\u001b[0;32m<ipython-input-80-62cd1c45481f>\u001b[0m in \u001b[0;36m<module>\u001b[0;34m\u001b[0m\n\u001b[1;32m      6\u001b[0m \u001b[0;32mfor\u001b[0m \u001b[0ms\u001b[0m \u001b[0;32min\u001b[0m \u001b[0msample_sizes\u001b[0m\u001b[0;34m:\u001b[0m\u001b[0;34m\u001b[0m\u001b[0;34m\u001b[0m\u001b[0m\n\u001b[1;32m      7\u001b[0m     \u001b[0mprint\u001b[0m\u001b[0;34m(\u001b[0m\u001b[0;34mf\"Calculating Mean and Variance at Sample Size {s}\"\u001b[0m\u001b[0;34m)\u001b[0m\u001b[0;34m\u001b[0m\u001b[0;34m\u001b[0m\u001b[0m\n\u001b[0;32m----> 8\u001b[0;31m     \u001b[0manom_score_mean\u001b[0m\u001b[0;34m,\u001b[0m \u001b[0manom_score_std\u001b[0m \u001b[0;34m=\u001b[0m \u001b[0manom_mean_var\u001b[0m\u001b[0;34m(\u001b[0m\u001b[0ms\u001b[0m\u001b[0;34m)\u001b[0m\u001b[0;34m\u001b[0m\u001b[0;34m\u001b[0m\u001b[0m\n\u001b[0m\u001b[1;32m      9\u001b[0m     \u001b[0mprint\u001b[0m\u001b[0;34m(\u001b[0m\u001b[0;34mf\"Anomaly Score Mean: {anom_score_mean}\"\u001b[0m\u001b[0;34m)\u001b[0m\u001b[0;34m\u001b[0m\u001b[0;34m\u001b[0m\u001b[0m\n\u001b[1;32m     10\u001b[0m     \u001b[0mprint\u001b[0m\u001b[0;34m(\u001b[0m\u001b[0;34mf\"Anomaly Score std: {anom_score_std}\"\u001b[0m\u001b[0;34m)\u001b[0m\u001b[0;34m\u001b[0m\u001b[0;34m\u001b[0m\u001b[0m\n",
      "\u001b[0;32m<ipython-input-79-05c3ac9311bb>\u001b[0m in \u001b[0;36manom_mean_var\u001b[0;34m(sam_size)\u001b[0m\n\u001b[1;32m     34\u001b[0m         \u001b[0mfeatures\u001b[0m \u001b[0;34m=\u001b[0m \u001b[0mnp\u001b[0m\u001b[0;34m.\u001b[0m\u001b[0mconcatenate\u001b[0m\u001b[0;34m(\u001b[0m\u001b[0;34m(\u001b[0m\u001b[0mrates\u001b[0m\u001b[0;34m,\u001b[0m \u001b[0mts_features\u001b[0m\u001b[0;34m)\u001b[0m\u001b[0;34m,\u001b[0m \u001b[0maxis\u001b[0m\u001b[0;34m=\u001b[0m\u001b[0;36m1\u001b[0m\u001b[0;34m)\u001b[0m\u001b[0;34m\u001b[0m\u001b[0;34m\u001b[0m\u001b[0m\n\u001b[1;32m     35\u001b[0m         \u001b[0mrcf\u001b[0m\u001b[0;34m.\u001b[0m\u001b[0mfit_batch\u001b[0m\u001b[0;34m(\u001b[0m\u001b[0mfeatures\u001b[0m\u001b[0;34m)\u001b[0m\u001b[0;34m\u001b[0m\u001b[0;34m\u001b[0m\u001b[0m\n\u001b[0;32m---> 36\u001b[0;31m         \u001b[0manomaly_scores\u001b[0m \u001b[0;34m=\u001b[0m \u001b[0mnp\u001b[0m\u001b[0;34m.\u001b[0m\u001b[0mappend\u001b[0m\u001b[0;34m(\u001b[0m\u001b[0manomaly_scores\u001b[0m\u001b[0;34m,\u001b[0m \u001b[0mrcf\u001b[0m\u001b[0;34m.\u001b[0m\u001b[0mbatch_anomaly_scores\u001b[0m\u001b[0;34m(\u001b[0m\u001b[0;34m)\u001b[0m\u001b[0;34m.\u001b[0m\u001b[0mvalues\u001b[0m\u001b[0;34m)\u001b[0m\u001b[0;34m\u001b[0m\u001b[0;34m\u001b[0m\u001b[0m\n\u001b[0m\u001b[1;32m     37\u001b[0m     \u001b[0;32mreturn\u001b[0m \u001b[0mnp\u001b[0m\u001b[0;34m.\u001b[0m\u001b[0mmean\u001b[0m\u001b[0;34m(\u001b[0m\u001b[0manomaly_scores\u001b[0m\u001b[0;34m)\u001b[0m\u001b[0;34m,\u001b[0m \u001b[0mnp\u001b[0m\u001b[0;34m.\u001b[0m\u001b[0mstd\u001b[0m\u001b[0;34m(\u001b[0m\u001b[0manomaly_scores\u001b[0m\u001b[0;34m)\u001b[0m\u001b[0;34m\u001b[0m\u001b[0;34m\u001b[0m\u001b[0m\n\u001b[1;32m     38\u001b[0m \u001b[0;34m\u001b[0m\u001b[0m\n",
      "\u001b[0;32m/anaconda3/envs/time_series/lib/python3.7/site-packages/manatee/robust_rcf.py\u001b[0m in \u001b[0;36mbatch_anomaly_scores\u001b[0;34m(self)\u001b[0m\n\u001b[1;32m     96\u001b[0m         \u001b[0;32mfor\u001b[0m \u001b[0mtree\u001b[0m \u001b[0;32min\u001b[0m \u001b[0mself\u001b[0m\u001b[0;34m.\u001b[0m\u001b[0mforest\u001b[0m\u001b[0;34m:\u001b[0m\u001b[0;34m\u001b[0m\u001b[0;34m\u001b[0m\u001b[0m\n\u001b[1;32m     97\u001b[0m             \u001b[0mcodisp\u001b[0m \u001b[0;34m=\u001b[0m \u001b[0mpd\u001b[0m\u001b[0;34m.\u001b[0m\u001b[0mSeries\u001b[0m\u001b[0;34m(\u001b[0m\u001b[0;34m{\u001b[0m\u001b[0mleaf\u001b[0m \u001b[0;34m:\u001b[0m \u001b[0mtree\u001b[0m\u001b[0;34m.\u001b[0m\u001b[0mcodisp\u001b[0m\u001b[0;34m(\u001b[0m\u001b[0mleaf\u001b[0m\u001b[0;34m)\u001b[0m \u001b[0;32mfor\u001b[0m \u001b[0mleaf\u001b[0m \u001b[0;32min\u001b[0m \u001b[0mtree\u001b[0m\u001b[0;34m.\u001b[0m\u001b[0mleaves\u001b[0m\u001b[0;34m}\u001b[0m\u001b[0;34m)\u001b[0m\u001b[0;34m\u001b[0m\u001b[0;34m\u001b[0m\u001b[0m\n\u001b[0;32m---> 98\u001b[0;31m             \u001b[0mavg_codisp\u001b[0m\u001b[0;34m[\u001b[0m\u001b[0mcodisp\u001b[0m\u001b[0;34m.\u001b[0m\u001b[0mindex\u001b[0m\u001b[0;34m]\u001b[0m \u001b[0;34m+=\u001b[0m \u001b[0mcodisp\u001b[0m\u001b[0;34m\u001b[0m\u001b[0;34m\u001b[0m\u001b[0m\n\u001b[0m\u001b[1;32m     99\u001b[0m             \u001b[0mnp\u001b[0m\u001b[0;34m.\u001b[0m\u001b[0madd\u001b[0m\u001b[0;34m.\u001b[0m\u001b[0mat\u001b[0m\u001b[0;34m(\u001b[0m\u001b[0mindex\u001b[0m\u001b[0;34m,\u001b[0m \u001b[0mcodisp\u001b[0m\u001b[0;34m.\u001b[0m\u001b[0mindex\u001b[0m\u001b[0;34m.\u001b[0m\u001b[0mvalues\u001b[0m\u001b[0;34m,\u001b[0m \u001b[0;36m1\u001b[0m\u001b[0;34m)\u001b[0m\u001b[0;34m\u001b[0m\u001b[0;34m\u001b[0m\u001b[0m\n\u001b[1;32m    100\u001b[0m         \u001b[0mavg_codisp\u001b[0m \u001b[0;34m/=\u001b[0m \u001b[0mindex\u001b[0m\u001b[0;34m\u001b[0m\u001b[0;34m\u001b[0m\u001b[0m\n",
      "\u001b[0;32m/anaconda3/envs/time_series/lib/python3.7/site-packages/pandas/core/series.py\u001b[0m in \u001b[0;36m__setitem__\u001b[0;34m(self, key, value)\u001b[0m\n\u001b[1;32m   1037\u001b[0m         \u001b[0;31m# do the setitem\u001b[0m\u001b[0;34m\u001b[0m\u001b[0;34m\u001b[0m\u001b[0;34m\u001b[0m\u001b[0m\n\u001b[1;32m   1038\u001b[0m         \u001b[0mcacher_needs_updating\u001b[0m \u001b[0;34m=\u001b[0m \u001b[0mself\u001b[0m\u001b[0;34m.\u001b[0m\u001b[0m_check_is_chained_assignment_possible\u001b[0m\u001b[0;34m(\u001b[0m\u001b[0;34m)\u001b[0m\u001b[0;34m\u001b[0m\u001b[0;34m\u001b[0m\u001b[0m\n\u001b[0;32m-> 1039\u001b[0;31m         \u001b[0msetitem\u001b[0m\u001b[0;34m(\u001b[0m\u001b[0mkey\u001b[0m\u001b[0;34m,\u001b[0m \u001b[0mvalue\u001b[0m\u001b[0;34m)\u001b[0m\u001b[0;34m\u001b[0m\u001b[0;34m\u001b[0m\u001b[0m\n\u001b[0m\u001b[1;32m   1040\u001b[0m         \u001b[0;32mif\u001b[0m \u001b[0mcacher_needs_updating\u001b[0m\u001b[0;34m:\u001b[0m\u001b[0;34m\u001b[0m\u001b[0;34m\u001b[0m\u001b[0m\n\u001b[1;32m   1041\u001b[0m             \u001b[0mself\u001b[0m\u001b[0;34m.\u001b[0m\u001b[0m_maybe_update_cacher\u001b[0m\u001b[0;34m(\u001b[0m\u001b[0;34m)\u001b[0m\u001b[0;34m\u001b[0m\u001b[0;34m\u001b[0m\u001b[0m\n",
      "\u001b[0;32m/anaconda3/envs/time_series/lib/python3.7/site-packages/pandas/core/series.py\u001b[0m in \u001b[0;36msetitem\u001b[0;34m(key, value)\u001b[0m\n\u001b[1;32m    985\u001b[0m         \u001b[0;32mdef\u001b[0m \u001b[0msetitem\u001b[0m\u001b[0;34m(\u001b[0m\u001b[0mkey\u001b[0m\u001b[0;34m,\u001b[0m \u001b[0mvalue\u001b[0m\u001b[0;34m)\u001b[0m\u001b[0;34m:\u001b[0m\u001b[0;34m\u001b[0m\u001b[0;34m\u001b[0m\u001b[0m\n\u001b[1;32m    986\u001b[0m             \u001b[0;32mtry\u001b[0m\u001b[0;34m:\u001b[0m\u001b[0;34m\u001b[0m\u001b[0;34m\u001b[0m\u001b[0m\n\u001b[0;32m--> 987\u001b[0;31m                 \u001b[0mself\u001b[0m\u001b[0;34m.\u001b[0m\u001b[0m_set_with_engine\u001b[0m\u001b[0;34m(\u001b[0m\u001b[0mkey\u001b[0m\u001b[0;34m,\u001b[0m \u001b[0mvalue\u001b[0m\u001b[0;34m)\u001b[0m\u001b[0;34m\u001b[0m\u001b[0;34m\u001b[0m\u001b[0m\n\u001b[0m\u001b[1;32m    988\u001b[0m                 \u001b[0;32mreturn\u001b[0m\u001b[0;34m\u001b[0m\u001b[0;34m\u001b[0m\u001b[0m\n\u001b[1;32m    989\u001b[0m             \u001b[0;32mexcept\u001b[0m \u001b[0mcom\u001b[0m\u001b[0;34m.\u001b[0m\u001b[0mSettingWithCopyError\u001b[0m\u001b[0;34m:\u001b[0m\u001b[0;34m\u001b[0m\u001b[0;34m\u001b[0m\u001b[0m\n",
      "\u001b[0;32m/anaconda3/envs/time_series/lib/python3.7/site-packages/pandas/core/series.py\u001b[0m in \u001b[0;36m_set_with_engine\u001b[0;34m(self, key, value)\u001b[0m\n\u001b[1;32m   1044\u001b[0m         \u001b[0mvalues\u001b[0m \u001b[0;34m=\u001b[0m \u001b[0mself\u001b[0m\u001b[0;34m.\u001b[0m\u001b[0m_values\u001b[0m\u001b[0;34m\u001b[0m\u001b[0;34m\u001b[0m\u001b[0m\n\u001b[1;32m   1045\u001b[0m         \u001b[0;32mtry\u001b[0m\u001b[0;34m:\u001b[0m\u001b[0;34m\u001b[0m\u001b[0;34m\u001b[0m\u001b[0m\n\u001b[0;32m-> 1046\u001b[0;31m             \u001b[0mself\u001b[0m\u001b[0;34m.\u001b[0m\u001b[0mindex\u001b[0m\u001b[0;34m.\u001b[0m\u001b[0m_engine\u001b[0m\u001b[0;34m.\u001b[0m\u001b[0mset_value\u001b[0m\u001b[0;34m(\u001b[0m\u001b[0mvalues\u001b[0m\u001b[0;34m,\u001b[0m \u001b[0mkey\u001b[0m\u001b[0;34m,\u001b[0m \u001b[0mvalue\u001b[0m\u001b[0;34m)\u001b[0m\u001b[0;34m\u001b[0m\u001b[0;34m\u001b[0m\u001b[0m\n\u001b[0m\u001b[1;32m   1047\u001b[0m             \u001b[0;32mreturn\u001b[0m\u001b[0;34m\u001b[0m\u001b[0;34m\u001b[0m\u001b[0m\n\u001b[1;32m   1048\u001b[0m         \u001b[0;32mexcept\u001b[0m \u001b[0mKeyError\u001b[0m\u001b[0;34m:\u001b[0m\u001b[0;34m\u001b[0m\u001b[0;34m\u001b[0m\u001b[0m\n",
      "\u001b[0;32mpandas/_libs/index.pyx\u001b[0m in \u001b[0;36mpandas._libs.index.IndexEngine.set_value\u001b[0;34m()\u001b[0m\n",
      "\u001b[0;32mpandas/_libs/index.pyx\u001b[0m in \u001b[0;36mpandas._libs.index.IndexEngine.set_value\u001b[0;34m()\u001b[0m\n",
      "\u001b[0;32mpandas/_libs/index.pyx\u001b[0m in \u001b[0;36mpandas._libs.index.IndexEngine.get_loc\u001b[0;34m()\u001b[0m\n",
      "\u001b[0;32m/anaconda3/envs/time_series/lib/python3.7/site-packages/pandas/core/base.py\u001b[0m in \u001b[0;36m__str__\u001b[0;34m(self)\u001b[0m\n\u001b[1;32m     55\u001b[0m \u001b[0;34m\u001b[0m\u001b[0m\n\u001b[1;32m     56\u001b[0m         \u001b[0;32mif\u001b[0m \u001b[0mcompat\u001b[0m\u001b[0;34m.\u001b[0m\u001b[0mPY3\u001b[0m\u001b[0;34m:\u001b[0m\u001b[0;34m\u001b[0m\u001b[0;34m\u001b[0m\u001b[0m\n\u001b[0;32m---> 57\u001b[0;31m             \u001b[0;32mreturn\u001b[0m \u001b[0mself\u001b[0m\u001b[0;34m.\u001b[0m\u001b[0m__unicode__\u001b[0m\u001b[0;34m(\u001b[0m\u001b[0;34m)\u001b[0m\u001b[0;34m\u001b[0m\u001b[0;34m\u001b[0m\u001b[0m\n\u001b[0m\u001b[1;32m     58\u001b[0m         \u001b[0;32mreturn\u001b[0m \u001b[0mself\u001b[0m\u001b[0;34m.\u001b[0m\u001b[0m__bytes__\u001b[0m\u001b[0;34m(\u001b[0m\u001b[0;34m)\u001b[0m\u001b[0;34m\u001b[0m\u001b[0;34m\u001b[0m\u001b[0m\n\u001b[1;32m     59\u001b[0m \u001b[0;34m\u001b[0m\u001b[0m\n",
      "\u001b[0;32m/anaconda3/envs/time_series/lib/python3.7/site-packages/pandas/core/indexes/base.py\u001b[0m in \u001b[0;36m__unicode__\u001b[0;34m(self)\u001b[0m\n\u001b[1;32m    926\u001b[0m         \"\"\"\n\u001b[1;32m    927\u001b[0m         \u001b[0mklass\u001b[0m \u001b[0;34m=\u001b[0m \u001b[0mself\u001b[0m\u001b[0;34m.\u001b[0m\u001b[0m__class__\u001b[0m\u001b[0;34m.\u001b[0m\u001b[0m__name__\u001b[0m\u001b[0;34m\u001b[0m\u001b[0;34m\u001b[0m\u001b[0m\n\u001b[0;32m--> 928\u001b[0;31m         \u001b[0mdata\u001b[0m \u001b[0;34m=\u001b[0m \u001b[0mself\u001b[0m\u001b[0;34m.\u001b[0m\u001b[0m_format_data\u001b[0m\u001b[0;34m(\u001b[0m\u001b[0;34m)\u001b[0m\u001b[0;34m\u001b[0m\u001b[0;34m\u001b[0m\u001b[0m\n\u001b[0m\u001b[1;32m    929\u001b[0m         \u001b[0mattrs\u001b[0m \u001b[0;34m=\u001b[0m \u001b[0mself\u001b[0m\u001b[0;34m.\u001b[0m\u001b[0m_format_attrs\u001b[0m\u001b[0;34m(\u001b[0m\u001b[0;34m)\u001b[0m\u001b[0;34m\u001b[0m\u001b[0;34m\u001b[0m\u001b[0m\n\u001b[1;32m    930\u001b[0m         \u001b[0mspace\u001b[0m \u001b[0;34m=\u001b[0m \u001b[0mself\u001b[0m\u001b[0;34m.\u001b[0m\u001b[0m_format_space\u001b[0m\u001b[0;34m(\u001b[0m\u001b[0;34m)\u001b[0m\u001b[0;34m\u001b[0m\u001b[0;34m\u001b[0m\u001b[0m\n",
      "\u001b[0;32m/anaconda3/envs/time_series/lib/python3.7/site-packages/pandas/core/indexes/base.py\u001b[0m in \u001b[0;36m_format_data\u001b[0;34m(self, name)\u001b[0m\n\u001b[1;32m    969\u001b[0m \u001b[0;34m\u001b[0m\u001b[0m\n\u001b[1;32m    970\u001b[0m         return format_object_summary(self, self._formatter_func,\n\u001b[0;32m--> 971\u001b[0;31m                                      is_justify=is_justify, name=name)\n\u001b[0m\u001b[1;32m    972\u001b[0m \u001b[0;34m\u001b[0m\u001b[0m\n\u001b[1;32m    973\u001b[0m     \u001b[0;32mdef\u001b[0m \u001b[0m_format_attrs\u001b[0m\u001b[0;34m(\u001b[0m\u001b[0mself\u001b[0m\u001b[0;34m)\u001b[0m\u001b[0;34m:\u001b[0m\u001b[0;34m\u001b[0m\u001b[0;34m\u001b[0m\u001b[0m\n",
      "\u001b[0;32m/anaconda3/envs/time_series/lib/python3.7/site-packages/pandas/io/formats/printing.py\u001b[0m in \u001b[0;36mformat_object_summary\u001b[0;34m(obj, formatter, is_justify, name, indent_for_name)\u001b[0m\n\u001b[1;32m    385\u001b[0m \u001b[0;34m\u001b[0m\u001b[0m\n\u001b[1;32m    386\u001b[0m         \u001b[0;32mfor\u001b[0m \u001b[0mi\u001b[0m \u001b[0;32min\u001b[0m \u001b[0mrange\u001b[0m\u001b[0;34m(\u001b[0m\u001b[0mlen\u001b[0m\u001b[0;34m(\u001b[0m\u001b[0mtail\u001b[0m\u001b[0;34m)\u001b[0m \u001b[0;34m-\u001b[0m \u001b[0;36m1\u001b[0m\u001b[0;34m)\u001b[0m\u001b[0;34m:\u001b[0m\u001b[0;34m\u001b[0m\u001b[0;34m\u001b[0m\u001b[0m\n\u001b[0;32m--> 387\u001b[0;31m             \u001b[0mword\u001b[0m \u001b[0;34m=\u001b[0m \u001b[0mtail\u001b[0m\u001b[0;34m[\u001b[0m\u001b[0mi\u001b[0m\u001b[0;34m]\u001b[0m \u001b[0;34m+\u001b[0m \u001b[0msep\u001b[0m \u001b[0;34m+\u001b[0m \u001b[0;34m' '\u001b[0m\u001b[0;34m\u001b[0m\u001b[0;34m\u001b[0m\u001b[0m\n\u001b[0m\u001b[1;32m    388\u001b[0m             summary, line = _extend_line(summary, line, word,\n\u001b[1;32m    389\u001b[0m                                          display_width, space2)\n",
      "\u001b[0;31mKeyboardInterrupt\u001b[0m: "
     ]
    }
   ],
   "source": [
    "'''\n",
    "    STEP 3b: compare the change in mean / variance as we change the sample size\n",
    "'''\n",
    "\n",
    "sample_sizes = [50,100,150]\n",
    "for s in sample_sizes:\n",
    "    logger.info(f\"Calculating Mean and Variance at Sample Size {s}\")\n",
    "    anom_score_mean, anom_score_std = anom_mean_var(s)\n",
    "    logger.info(f\"Anomaly Score Mean: {anom_score_mean}\")\n",
    "    logger.info(f\"Anomaly Score std: {anom_score_std}\")   "
   ]
  },
  {
   "cell_type": "code",
   "execution_count": null,
   "metadata": {},
   "outputs": [],
   "source": [
    "'''\n",
    "    STEP 4: VISUALIZE ANOMALIES FOR TWEETS WE CARE ABOUT\n",
    "'''\n",
    "import matplotlib.pyplot as plt\n",
    "import scipy.stats as st\n",
    "\n",
    "# this function plots a graph of the hashtag, anomalies are labeled by a percentile threshold (parameter) and a graph\n",
    "# of the anomaly scores (which could be mapped to some low / medium / high scale, for example, similar to product \n",
    "# dashboard)\n",
    "def visualize_ht(hashtag, anom_percentile = 99.5, save = True):\n",
    "    index = np.where(data['dataframe'][:,0] == hashtag)[0][0]\n",
    "    features = np.concatenate((np.zeros((padding_in_hrs, 1)), rates[index].reshape(-1,1)), axis=0)\n",
    "    anom_score = rcf.stream_anomaly_scores(features, window_size = 1, new_forest=True)\n",
    "    \n",
    "    # for this application, we just care about flagging positive anomalies -> set decreasing or 0 rate values to False\n",
    "    decrease_mask = np.concatenate((np.array([False]), np.diff(features[padding_in_hrs:].reshape(-1)) < 0), axis=0)\n",
    "    anom_pred = anom_score[padding_in_hrs:] > np.percentile(anomaly_scores, anom_percentile)\n",
    "    anom_pred[decrease_mask] = False\n",
    "    anom_pred[features[padding_in_hrs:].reshape(-1) == 0] = False\n",
    "    \n",
    "    # plot comparison of labeled anomalies to predicted anomalies\n",
    "    colors = ('blue', 'red')\n",
    "    targets = ('non-anomalous', 'anomalous')\n",
    "    pred_indices = (np.where(~anom_pred), np.where(anom_pred))\n",
    "    pred_data = (features[padding_in_hrs:][~anom_pred], features[padding_in_hrs:][anom_pred])\n",
    "    plt.clf()\n",
    "    plt.subplot(2, 1, 1)\n",
    "    for index, dat, color, target in zip(pred_indices, pred_data, colors, targets):\n",
    "        plt.scatter(index, dat, c = color, label = target, s=10)\n",
    "    plt.xlabel('1-Hour Intervals March 1st - March 24th')\n",
    "    locs, labs = plt.xticks()\n",
    "    plt.xticks(locs, [''] + [t.strftime(\"%m/%d\") for t in ts][::100])\n",
    "    plt.ylabel('Hashtag Rate')\n",
    "    plt.title(f\"Time Series Anomaly Detection for #{hashtag}\")\n",
    "    plt.legend()\n",
    "    plt.subplot(2, 1, 2)\n",
    "    plt.scatter(range(len(anom_score[padding_in_hrs:])), anom_score[padding_in_hrs:],s=10)\n",
    "    plt.ylabel('Anomaly Score')\n",
    "    plt.xlabel('1-Hour Intervals March 1st - March 24th')\n",
    "    plt.xticks(locs, [''] + [t.strftime(\"%m/%d\") for t in ts][::100])\n",
    "    plt.show() if not save else plt.savefig(f\"{hashtag}.png\")\n",
    "\n",
    "visualize_ht('shallowbucks')\n",
    "visualize_ht('mjinnocent')"
   ]
  },
  {
   "cell_type": "code",
   "execution_count": 188,
   "metadata": {
    "collapsed": true
   },
   "outputs": [
    {
     "data": {
      "text/plain": [
       "array([False,  True, False, False,  True])"
      ]
     },
     "execution_count": 188,
     "metadata": {},
     "output_type": "execute_result"
    }
   ],
   "source": []
  },
  {
   "cell_type": "code",
   "execution_count": 171,
   "metadata": {
    "collapsed": true
   },
   "outputs": [
    {
     "data": {
      "text/plain": [
       "array([ True,  True,  True,  True,  True,  True,  True,  True,  True,\n",
       "        True])"
      ]
     },
     "execution_count": 171,
     "metadata": {},
     "output_type": "execute_result"
    }
   ],
   "source": []
  },
  {
   "cell_type": "code",
   "execution_count": 98,
   "metadata": {
    "collapsed": true
   },
   "outputs": [
    {
     "data": {
      "text/plain": [
       "<matplotlib.collections.PathCollection at 0x137657128>"
      ]
     },
     "execution_count": 98,
     "metadata": {},
     "output_type": "execute_result"
    },
    {
     "data": {
      "image/png": "[encoded data removed]",
      "text/plain": [
       "<Figure size 432x288 with 1 Axes>"
      ]
     },
     "metadata": {
      "needs_background": "light"
     },
     "output_type": "display_data"
    }
   ],
   "source": []
  },
  {
   "cell_type": "code",
   "execution_count": 104,
   "metadata": {
    "collapsed": true
   },
   "outputs": [
    {
     "data": {
      "text/plain": [
       "array([ 0.,  0.,  0.,  0.,  0.,  0.,  0.,  0.,  0.,  0.,  0.,  0.,  0.,\n",
       "        0.,  0.,  0.,  0.,  0.,  0.,  0.,  0.,  0.,  0.,  0.,  0.,  0.,\n",
       "        0.,  0.,  0.,  0.,  0.,  0.,  0.,  0.,  0.,  0.,  0.,  0.,  0.,\n",
       "        0.,  0.,  0.,  0.,  0.,  0.,  0.,  0.,  0.,  0.,  0.,  0.,  0.,\n",
       "        0.,  0.,  0.,  0.,  0.,  0.,  0.,  0.,  0.,  0.,  0.,  0.,  0.,\n",
       "        0.,  0.,  0.,  0.,  0.,  0.,  0.,  0.,  0.,  0.,  0.,  0.,  0.,\n",
       "        0.,  0.,  0.,  0.,  0.,  0.,  0.,  0.,  0.,  0.,  0.,  0.,  0.,\n",
       "        0.,  0.,  0.,  0.,  0.,  0.,  0.,  0.,  0., 10.])"
      ]
     },
     "execution_count": 104,
     "metadata": {},
     "output_type": "execute_result"
    }
   ],
   "source": []
  },
  {
   "cell_type": "code",
   "execution_count": null,
   "metadata": {},
   "outputs": [],
   "source": []
  }
 ],
 "metadata": {
  "kernelspec": {
   "display_name": "Python (time_series)",
   "language": "python",
   "name": "time_series"
  },
  "language_info": {
   "codemirror_mode": {
    "name": "ipython",
    "version": 3
   },
   "file_extension": ".py",
   "mimetype": "text/x-python",
   "name": "python",
   "nbconvert_exporter": "python",
   "pygments_lexer": "ipython3",
   "version": "3.7.2"
  }
 },
 "nbformat": 4,
 "nbformat_minor": 2
}
